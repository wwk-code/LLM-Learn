{
 "cells": [
  {
   "attachments": {},
   "cell_type": "markdown",
   "metadata": {},
   "source": [
    "<a href=\"https://colab.research.google.com/github/meta-llama/llama-recipes/blob/main/recipes/quickstart/Prompt_Engineering_with_Llama_3.ipynb\" target=\"_parent\"><img src=\"https://colab.research.google.com/assets/colab-badge.svg\" alt=\"Open In Colab\"/></a>\n",
    "\n",
    "# Prompt Engineering with Llama 3.1\n",
    "\n",
    "Prompt engineering is using natural language to produce a desired response from a large language model (LLM).\n",
    "\n",
    "This interactive guide covers prompt engineering & best practices with Llama 3.1."
   ]
  },
  {
   "attachments": {},
   "cell_type": "markdown",
   "metadata": {},
   "source": [
    "## Introduction"
   ]
  },
  {
   "attachments": {},
   "cell_type": "markdown",
   "metadata": {},
   "source": [
    "### Why now?\n",
    "\n",
    "[Vaswani et al. (2017)](https://arxiv.org/abs/1706.03762) introduced the world to transformer neural networks (originally for machine translation). Transformers ushered an era of generative AI with diffusion models for image creation and large language models (`LLMs`) as **programmable deep learning networks**.\n",
    "\n",
    "Programming foundational LLMs is done with natural language – it doesn't require training/tuning like ML models of the past. This has opened the door to a massive amount of innovation and a paradigm shift in how technology can be deployed. The science/art of using natural language to program language models to accomplish a task is referred to as **Prompt Engineering**."
   ]
  },
  {
   "attachments": {},
   "cell_type": "markdown",
   "metadata": {},
   "source": [
    "### Llama Models\n",
    "\n",
    "In 2023, Meta introduced the [Llama language models](https://ai.meta.com/llama/) (Llama Chat, Code Llama, Llama Guard). These are general purpose, state-of-the-art LLMs.\n",
    "\n",
    "Llama models come in varying parameter sizes. The smaller models are cheaper to deploy and run; the larger models are more capable.\n",
    "\n",
    "#### Llama 3.1\n",
    "1. `llama-3.1-8b` - base pretrained 8 billion parameter model\n",
    "1. `llama-3.1-70b` - base pretrained 70 billion parameter model\n",
    "1. `llama-3.1-405b` - base pretrained 405 billion parameter model\n",
    "1. `llama-3.1-8b-instruct` - instruction fine-tuned 8 billion parameter model\n",
    "1. `llama-3.1-70b-instruct` - instruction fine-tuned 70 billion parameter model\n",
    "1. `llama-3.1-405b-instruct` - instruction fine-tuned 405 billion parameter model (flagship)\n",
    "\n",
    "\n",
    "#### Llama 3\n",
    "1. `llama-3-8b` - base pretrained 8 billion parameter model\n",
    "1. `llama-3-70b` - base pretrained 70 billion parameter model\n",
    "1. `llama-3-8b-instruct` - instruction fine-tuned 8 billion parameter model\n",
    "1. `llama-3-70b-instruct` - instruction fine-tuned 70 billion parameter model (flagship)\n",
    "\n",
    "#### Llama 2\n",
    "1. `llama-2-7b` - base pretrained 7 billion parameter model\n",
    "1. `llama-2-13b` - base pretrained 13 billion parameter model\n",
    "1. `llama-2-70b` - base pretrained 70 billion parameter model\n",
    "1. `llama-2-7b-chat` - chat fine-tuned 7 billion parameter model\n",
    "1. `llama-2-13b-chat` - chat fine-tuned 13 billion parameter model\n",
    "1. `llama-2-70b-chat` - chat fine-tuned 70 billion parameter model (flagship)\n"
   ]
  },
  {
   "attachments": {},
   "cell_type": "markdown",
   "metadata": {},
   "source": [
    "Code Llama is a code-focused LLM built on top of Llama 2 also available in various sizes and finetunes:"
   ]
  },
  {
   "attachments": {},
   "cell_type": "markdown",
   "metadata": {},
   "source": [
    "#### Code Llama\n",
    "1. `codellama-7b` - code fine-tuned 7 billion parameter model\n",
    "1. `codellama-13b` - code fine-tuned 13 billion parameter model\n",
    "1. `codellama-34b` - code fine-tuned 34 billion parameter model\n",
    "1. `codellama-70b` - code fine-tuned 70 billion parameter model\n",
    "1. `codellama-7b-instruct` - code & instruct fine-tuned 7 billion parameter model\n",
    "2. `codellama-13b-instruct` - code & instruct fine-tuned 13 billion parameter model\n",
    "3. `codellama-34b-instruct` - code & instruct fine-tuned 34 billion parameter model\n",
    "3. `codellama-70b-instruct` - code & instruct fine-tuned 70 billion parameter model\n",
    "1. `codellama-7b-python` - Python fine-tuned 7 billion parameter model\n",
    "2. `codellama-13b-python` - Python fine-tuned 13 billion parameter model\n",
    "3. `codellama-34b-python` - Python fine-tuned 34 billion parameter model\n",
    "3. `codellama-70b-python` - Python fine-tuned 70 billion parameter model"
   ]
  },
  {
   "attachments": {},
   "cell_type": "markdown",
   "metadata": {},
   "source": [
    "## Getting an LLM\n",
    "\n",
    "Large language models are deployed and accessed in a variety of ways, including:\n",
    "\n",
    "1. **Self-hosting**: Using local hardware to run inference. Ex. running Llama on your Macbook Pro using [llama.cpp](https://github.com/ggerganov/llama.cpp).\n",
    "    * Best for privacy/security or if you already have a GPU.\n",
    "1. **Cloud hosting**: Using a cloud provider to deploy an instance that hosts a specific model. Ex. running Llama on cloud providers like AWS, Azure, GCP, and others.\n",
    "    * Best for customizing models and their runtime (ex. fine-tuning a model for your use case).\n",
    "1. **Hosted API**: Call LLMs directly via an API. There are many companies that provide Llama inference APIs including AWS Bedrock, Replicate, Anyscale, Together and others.\n",
    "    * Easiest option overall."
   ]
  },
  {
   "attachments": {},
   "cell_type": "markdown",
   "metadata": {},
   "source": [
    "### Hosted APIs\n",
    "\n",
    "Hosted APIs are the easiest way to get started. We'll use them here. There are usually two main endpoints:\n",
    "\n",
    "1. **`completion`**: generate a response to a given prompt (a string).\n",
    "1. **`chat_completion`**: generate the next message in a list of messages, enabling more explicit instruction and context for use cases like chatbots."
   ]
  },
  {
   "attachments": {},
   "cell_type": "markdown",
   "metadata": {},
   "source": [
    "## Tokens\n",
    "\n",
    "LLMs process inputs and outputs in chunks called *tokens*. Think of these, roughly, as words – each model will have its own tokenization scheme. For example, this sentence...\n",
    "\n",
    "> Our destiny is written in the stars.\n",
    "\n",
    "...is tokenized into `[\"Our\", \" destiny\", \" is\", \" written\", \" in\", \" the\", \" stars\", \".\"]` for Llama 3. See [this](https://tiktokenizer.vercel.app/?model=meta-llama%2FMeta-Llama-3-8B) for an interactive tokenizer tool.\n",
    "\n",
    "Tokens matter most when you consider API pricing and internal behavior (ex. hyperparameters).\n",
    "\n",
    "Each model has a maximum context length that your prompt cannot exceed. That's 128k tokens for Llama 3.1, 4K for Llama 2, and 100K for Code Llama.\n"
   ]
  },
  {
   "attachments": {},
   "cell_type": "markdown",
   "metadata": {},
   "source": [
    "## Notebook Setup\n",
    "\n",
    "The following APIs will be used to call LLMs throughout the guide. As an example, we'll call Llama 3.1 chat using [Grok](https://console.groq.com/playground?model=llama3-70b-8192).\n",
    "\n",
    "To install prerequisites run:"
   ]
  },
  {
   "cell_type": "code",
   "execution_count": 1,
   "metadata": {},
   "outputs": [
    {
     "name": "stdout",
     "output_type": "stream",
     "text": [
      "Requirement already satisfied: groq in /root/anaconda3/lib/python3.12/site-packages (0.11.0)\n",
      "Requirement already satisfied: anyio<5,>=3.5.0 in /root/anaconda3/lib/python3.12/site-packages (from groq) (4.2.0)\n",
      "Requirement already satisfied: distro<2,>=1.7.0 in /root/anaconda3/lib/python3.12/site-packages (from groq) (1.9.0)\n",
      "Requirement already satisfied: httpx<1,>=0.23.0 in /root/anaconda3/lib/python3.12/site-packages (from groq) (0.27.2)\n",
      "Requirement already satisfied: pydantic<3,>=1.9.0 in /root/anaconda3/lib/python3.12/site-packages (from groq) (2.9.2)\n",
      "Requirement already satisfied: sniffio in /root/anaconda3/lib/python3.12/site-packages (from groq) (1.3.0)\n",
      "Requirement already satisfied: typing-extensions<5,>=4.7 in /root/anaconda3/lib/python3.12/site-packages (from groq) (4.8.0)\n",
      "Requirement already satisfied: idna>=2.8 in /root/anaconda3/lib/python3.12/site-packages (from anyio<5,>=3.5.0->groq) (3.7)\n",
      "Requirement already satisfied: certifi in /root/anaconda3/lib/python3.12/site-packages (from httpx<1,>=0.23.0->groq) (2024.6.2)\n",
      "Requirement already satisfied: httpcore==1.* in /root/anaconda3/lib/python3.12/site-packages (from httpx<1,>=0.23.0->groq) (1.0.6)\n",
      "Requirement already satisfied: h11<0.15,>=0.13 in /root/anaconda3/lib/python3.12/site-packages (from httpcore==1.*->httpx<1,>=0.23.0->groq) (0.14.0)\n",
      "Requirement already satisfied: annotated-types>=0.6.0 in /root/anaconda3/lib/python3.12/site-packages (from pydantic<3,>=1.9.0->groq) (0.6.0)\n",
      "Requirement already satisfied: pydantic-core==2.23.4 in /root/anaconda3/lib/python3.12/site-packages (from pydantic<3,>=1.9.0->groq) (2.23.4)\n",
      "\u001b[33mWARNING: Running pip as the 'root' user can result in broken permissions and conflicting behaviour with the system package manager. It is recommended to use a virtual environment instead: https://pip.pypa.io/warnings/venv\u001b[0m\u001b[33m\n",
      "\u001b[0m"
     ]
    }
   ],
   "source": [
    "import sys\n",
    "!{sys.executable} -m pip install groq"
   ]
  },
  {
   "cell_type": "code",
   "execution_count": 1,
   "metadata": {},
   "outputs": [
    {
     "name": "stdout",
     "output_type": "stream",
     "text": [
      "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\n"
     ]
    }
   ],
   "source": [
    "import os\n",
    "\n",
    "groq_api_key = os.getenv('GROQ_API_KEY')\n",
    "\n",
    "print(groq_api_key)"
   ]
  },
  {
   "cell_type": "code",
   "execution_count": 1,
   "metadata": {},
   "outputs": [],
   "source": [
    "import os\n",
    "from typing import Dict, List\n",
    "from groq import Groq\n",
    "\n",
    "# Get a free API key from https://console.groq.com/keys\n",
    "os.environ[\"GROQ_API_KEY\"] = \"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\"\n",
    "\n",
    "\n",
    "LLAMA3_405B_INSTRUCT = \"llama-3.1-405b-reasoning\" # Note: Groq currently only gives access here to paying customers for 405B model\n",
    "LLAMA3_70B_INSTRUCT = \"llama-3.1-70b-versatile\"\n",
    "LLAMA3_8B_INSTRUCT = \"llama3.1-8b-instant\"\n",
    "\n",
    "DEFAULT_MODEL = LLAMA3_70B_INSTRUCT\n",
    "\n",
    "client = Groq()\n",
    "\n",
    "def assistant(content: str):\n",
    "    return { \"role\": \"assistant\", \"content\": content }\n",
    "\n",
    "def user(content: str):\n",
    "    return { \"role\": \"user\", \"content\": content }\n",
    "\n",
    "def chat_completion(\n",
    "    messages: List[Dict],\n",
    "    model = DEFAULT_MODEL,\n",
    "    temperature: float = 0.6,\n",
    "    top_p: float = 0.9,\n",
    ") -> str:\n",
    "    response = client.chat.completions.create(\n",
    "        messages=messages,\n",
    "        model=model,\n",
    "        temperature=temperature,\n",
    "        top_p=top_p,\n",
    "    )\n",
    "    return response.choices[0].message.content\n",
    "        \n",
    "\n",
    "def completion(\n",
    "    prompt: str,\n",
    "    model: str = DEFAULT_MODEL,\n",
    "    temperature: float = 0.6,\n",
    "    top_p: float = 0.9,\n",
    ") -> str:\n",
    "    return chat_completion(\n",
    "        [user(prompt)],\n",
    "        model=model,\n",
    "        temperature=temperature,\n",
    "        top_p=top_p,\n",
    "    )\n",
    "\n",
    "def complete_and_print(prompt: str, model: str = DEFAULT_MODEL):\n",
    "    print(f'==============\\n{prompt}\\n==============')\n",
    "    response = completion(prompt, model)\n",
    "    print(response, end='\\n\\n')\n"
   ]
  },
  {
   "attachments": {},
   "cell_type": "markdown",
   "metadata": {},
   "source": [
    "### Completion APIs\n",
    "\n",
    "Let's try Llama 3.1!"
   ]
  },
  {
   "cell_type": "code",
   "execution_count": 3,
   "metadata": {},
   "outputs": [
    {
     "name": "stdout",
     "output_type": "stream",
     "text": [
      "==============\n",
      "The typical color of the sky is: \n",
      "==============\n",
      "Blue.\n",
      "\n"
     ]
    }
   ],
   "source": [
    "complete_and_print(\"The typical color of the sky is: \")"
   ]
  },
  {
   "cell_type": "code",
   "execution_count": 6,
   "metadata": {},
   "outputs": [
    {
     "name": "stdout",
     "output_type": "stream",
     "text": [
      "==============\n",
      "which model version are you?\n",
      "==============\n",
      "I'm a large language model, my version is InstructLLaMA, and my knowledge cutoff is currently December 2023, but I don't have a specific model version number.\n",
      "\n"
     ]
    }
   ],
   "source": [
    "complete_and_print(\"which model version are you?\")"
   ]
  },
  {
   "attachments": {},
   "cell_type": "markdown",
   "metadata": {},
   "source": [
    "### Chat Completion APIs\n",
    "Chat completion models provide additional structure to interacting with an LLM. An array of structured message objects is sent to the LLM instead of a single piece of text. This message list provides the LLM with some \"context\" or \"history\" from which to continue.\n",
    "\n",
    "Typically, each message contains `role` and `content`:\n",
    "* Messages with the `system` role are used to provide core instruction to the LLM by developers.\n",
    "* Messages with the `user` role are typically human-provided messages.\n",
    "* Messages with the `assistant` role are typically generated by the LLM."
   ]
  },
  {
   "cell_type": "code",
   "execution_count": 7,
   "metadata": {},
   "outputs": [
    {
     "name": "stdout",
     "output_type": "stream",
     "text": [
      "Your favorite color is blue.\n"
     ]
    }
   ],
   "source": [
    "response = chat_completion(messages=[\n",
    "    user(\"My favorite color is blue.\"),\n",
    "    assistant(\"That's great to hear!\"),\n",
    "    user(\"What is my favorite color?\"),\n",
    "])\n",
    "print(response)\n",
    "# \"Sure, I can help you with that! Your favorite color is blue.\""
   ]
  },
  {
   "attachments": {},
   "cell_type": "markdown",
   "metadata": {},
   "source": [
    "### LLM Hyperparameters\n",
    "\n",
    "#### `temperature` & `top_p`\n",
    "\n",
    "These APIs also take parameters which influence the creativity and determinism of your output.\n",
    "\n",
    "At each step, LLMs generate a list of most likely tokens and their respective probabilities. The least likely tokens are \"cut\" from the list (based on `top_p`), and then a token is randomly selected from the remaining candidates (`temperature`).\n",
    "\n",
    "In other words: `top_p` controls the breadth of vocabulary in a generation and `temperature` controls the randomness within that vocabulary. A temperature of ~0 produces *almost* deterministic results.\n",
    "\n",
    "[Read more about temperature setting here](https://community.openai.com/t/cheat-sheet-mastering-temperature-and-top-p-in-chatgpt-api-a-few-tips-and-tricks-on-controlling-the-creativity-deterministic-output-of-prompt-responses/172683).\n",
    "\n",
    "Let's try it out:"
   ]
  },
  {
   "cell_type": "code",
   "execution_count": 2,
   "metadata": {},
   "outputs": [],
   "source": [
    "def print_tuned_completion(temperature: float, top_p: float):\n",
    "    response = completion(\"Write a haiku about llamas\", temperature=temperature, top_p=top_p)\n",
    "    print(f'[temperature: {temperature} | top_p: {top_p}]\\n{response.strip()}\\n')\n",
    "\n",
    "# print_tuned_completion(0.01, 0.01)\n",
    "# print_tuned_completion(0.01, 0.01)\n",
    "# # These two generations are highly likely to be the same\n",
    "\n",
    "# print_tuned_completion(1.0, 1.0)\n",
    "# print_tuned_completion(1.0, 1.0)\n",
    "# These two generations are highly likely to be different"
   ]
  },
  {
   "attachments": {},
   "cell_type": "markdown",
   "metadata": {},
   "source": [
    "## Prompting Techniques"
   ]
  },
  {
   "attachments": {},
   "cell_type": "markdown",
   "metadata": {},
   "source": [
    "### Explicit Instructions\n",
    "\n",
    "Detailed, explicit instructions produce better results than open-ended prompts:"
   ]
  },
  {
   "cell_type": "code",
   "execution_count": 4,
   "metadata": {},
   "outputs": [
    {
     "name": "stdout",
     "output_type": "stream",
     "text": [
      "==============\n",
      "Describe quantum physics in one short sentence of no more than 12 words\n",
      "==============\n",
      "Quantum physics studies behavior of matter at atomic and subatomic levels.\n",
      "\n"
     ]
    }
   ],
   "source": [
    "complete_and_print(prompt=\"Describe quantum physics in one short sentence of no more than 12 words\")\n",
    "# Returns a succinct explanation of quantum physics that mentions particles and states existing simultaneously."
   ]
  },
  {
   "attachments": {},
   "cell_type": "markdown",
   "metadata": {},
   "source": [
    "You can think about giving explicit instructions as using rules and restrictions to how Llama 3 responds to your prompt.\n",
    "\n",
    "- Stylization\n",
    "    - `Explain this to me like a topic on a children's educational network show teaching elementary students.`\n",
    "    - `I'm a software engineer using large language models for summarization. Summarize the following text in under 250 words:`\n",
    "    - `Give your answer like an old timey private investigator hunting down a case step by step.`\n",
    "- Formatting\n",
    "    - `Use bullet points.`\n",
    "    - `Return as a JSON object.`\n",
    "    - `Use less technical terms and help me apply it in my work in communications.`\n",
    "- Restrictions\n",
    "    - `Only use academic papers.`\n",
    "    - `Never give sources older than 2020.`\n",
    "    - `If you don't know the answer, say that you don't know.`\n",
    "\n",
    "Here's an example of giving explicit instructions to give more specific results by limiting the responses to recently created sources."
   ]
  },
  {
   "cell_type": "code",
   "execution_count": 5,
   "metadata": {},
   "outputs": [
    {
     "name": "stdout",
     "output_type": "stream",
     "text": [
      "==============\n",
      "Explain the latest advances in large language models to me.\n",
      "==============\n",
      "The field of large language models (LLMs) has seen significant advancements in recent years. Some of the latest developments include:\n",
      "\n",
      "1. **Transformer-XL and Longformer**: These models have improved upon the traditional transformer architecture by allowing for longer input sequences and more efficient processing. Transformer-XL uses a segment-level recurrence mechanism to process longer sequences, while Longformer uses a combination of local and global attention mechanisms to reduce computational costs.\n",
      "\n",
      "2. **Multitask Learning and Meta-Learning**: Many recent LLMs have been trained using multitask learning and meta-learning techniques. These approaches involve training a single model on multiple tasks simultaneously, allowing the model to learn a wide range of skills and adapt to new tasks more easily.\n",
      "\n",
      "3. **Generative Pre-Training and Fine-Tuning**: This approach involves pre-training a model on a large corpus of text using a generative objective (e.g., predicting the next word in a sequence), and then fine-tuning the model on a specific task (e.g., sentiment analysis or question answering). This approach has been shown to be highly effective for a wide range of NLP tasks.\n",
      "\n",
      "4. **Efficient Transformers and Sparsification**: As LLMs have grown in size and complexity, they have become increasingly computationally expensive to train and deploy. To address this issue, researchers have developed efficient transformer architectures and sparsification techniques that reduce the number of parameters and computations required.\n",
      "\n",
      "5. **Explainability and Interpretability**: As LLMs have become more widely used, there has been a growing need for techniques to explain and interpret their behavior. Researchers have developed methods such as attention visualization, feature importance, and model-agnostic interpretability techniques to provide insights into how LLMs make predictions.\n",
      "\n",
      "6. **Large Language Models with 100B+ Parameters**: Models such as PaLM, LLaMA, and GPT-4 have pushed the boundaries of what is possible with large language models. These models have demonstrated state-of-the-art performance on a wide range of NLP tasks and have shown the potential for even more significant advancements in the future.\n",
      "\n",
      "7. **Cognitive Architectures and Cognitive Models**: Researchers have started to incorporate cognitive architectures and cognitive models into LLMs to make them more human-like and capable of reasoning, decision-making, and problem-solving.\n",
      "\n",
      "8. **Multimodal and Multitask Models**: Recent LLMs have started to incorporate multiple modalities such as text, images, and speech. These models can process and generate multiple types of data, enabling applications such as image captioning, text-to-image synthesis, and speech-to-text systems.\n",
      "\n",
      "9. **Adversarial Training and Robustness**: As LLMs have become more widely used, there has been a growing concern about their robustness to adversarial attacks. Researchers have developed techniques such as adversarial training and data augmentation to improve the robustness of LLMs.\n",
      "\n",
      "10. **Specialized Models for Specific Tasks**: Researchers have started to develop specialized models for specific tasks such as question answering, sentiment analysis, and text classification. These models are designed to excel in a particular task and have shown state-of-the-art performance.\n",
      "\n",
      "These advances have significantly improved the performance and capabilities of large language models, enabling a wide range of applications in natural language processing, machine learning, and artificial intelligence.\n",
      "\n",
      "==============\n",
      "Explain the latest advances in large language models to me. Always cite your sources. Never cite sources older than 2020.\n",
      "==============\n",
      "Recent advances in large language models have led to significant improvements in natural language processing tasks. Here are some of the latest developments:\n",
      "\n",
      "1. **Transformer-XL and Long-Range Arena**: The Transformer-XL model, introduced in 2019 but further developed in 2020, has been shown to outperform other models on long-range dependency tasks (Dai et al., 2020). The Long-Range Arena benchmark, also introduced in 2020, has become a standard evaluation tool for large language models (Tay et al., 2020).\n",
      "\n",
      "2. **Efficient Transformers**: Researchers have proposed various efficient transformer architectures, such as the Reformer (Kitaev et al., 2020) and the Linformer (Wang et al., 2020). These models reduce computational complexity while maintaining performance.\n",
      "\n",
      "3. **Multitask Learning**: Multitask learning has become increasingly popular in large language models. For example, the T5 model (Raffel et al., 2020) uses a text-to-text framework to train on multiple tasks simultaneously, achieving state-of-the-art results on various benchmarks.\n",
      "\n",
      "4. **Large-Scale Pretraining**: Large-scale pretraining has become a crucial component of large language models. The BERT-large model (Devlin et al., 2020) has been pre-trained on a massive dataset and fine-tuned on various tasks, achieving state-of-the-art results.\n",
      "\n",
      "5. **Generative Models**: Generative models, such as the transformer-based language model (TLM) (Liu et al., 2020), have been proposed to generate coherent and natural-sounding text. These models have applications in text generation, summarization, and chatbots.\n",
      "\n",
      "6. **Explainability and Interpretability**: Researchers have proposed various methods to improve the explainability and interpretability of large language models. For example, the LIME (Local Interpretable Model-agnostic Explanations) method (Ribeiro et al., 2020) provides insights into the decision-making process of large language models.\n",
      "\n",
      "7. **Conversational AI**: Large language models have been applied to conversational AI tasks, such as dialogue generation and response selection. For example, the DialoGPT model (Zhang et al., 2020) uses a transformer-based architecture to generate human-like responses in conversational settings.\n",
      "\n",
      "References:\n",
      "\n",
      "Dai, Z., Yang, Z., Yang, Y., Carbonell, J. G., Le, Q. V., & Salakhutdinov, R. (2020). Transformer-XL: Attentive language models beyond a fixed-length context. Journal of Machine Learning Research, 21(1), 1-36.\n",
      "\n",
      "Devlin, J., Chang, M. W., Lee, K., & Toutanova, K. (2020). BERT: Pre-training of deep bidirectional transformers for language understanding. Journal of Machine Learning Research, 21(1), 1-36.\n",
      "\n",
      "Kitaev, N., Kaiser, Ł., & Levandowsky, A. (2020). Reformer: The efficient transformer. arXiv preprint arXiv:2001.04451.\n",
      "\n",
      "Liu, X., Li, Y., Zhang, M., & Zhou, M. (2020). TLM: A transformer-based language model for text generation. arXiv preprint arXiv:2004.13422.\n",
      "\n",
      "Raffel, C., Shazeer, N., Roberts, A., Lee, K., Narang, S., Matena, M., ... & Liu, Y. (2020). Exploring the limits of language modeling. arXiv preprint arXiv:1910.10683.\n",
      "\n",
      "Ribeiro, M. T., Singh, S., & Guestrin, C. (2020). \"Why should I trust you?\" Explaining the predictions of any classifier. arXiv preprint arXiv:1602.04938.\n",
      "\n",
      "Tay, Y., Dehghani, M., Bahri, D., & Metzler, D. (2020). Long range arena: A benchmark for efficient transformers. arXiv preprint arXiv:2003.06774.\n",
      "\n",
      "Wang, S., Li, B., Khabsa, M., Fang, H., & Ma, H. (2020). Linformer: Self-attention with linear complexity. arXiv preprint arXiv:2006.04768.\n",
      "\n",
      "Zhang, Y., Chen, S., & Li, J. (2020). DialoGPT: Large-scale generative conversational dialogue. arXiv preprint arXiv:2009.14635.\n",
      "\n"
     ]
    }
   ],
   "source": [
    "complete_and_print(\"Explain the latest advances in large language models to me.\")\n",
    "# More likely to cite sources from 2017\n",
    "\n",
    "complete_and_print(\"Explain the latest advances in large language models to me. Always cite your sources. Never cite sources older than 2020.\")\n",
    "# Gives more specific advances and only cites sources from 2020"
   ]
  },
  {
   "attachments": {},
   "cell_type": "markdown",
   "metadata": {},
   "source": [
    "### Example Prompting using Zero- and Few-Shot Learning\n",
    "\n",
    "A shot is an example or demonstration of what type of prompt and response you expect from a large language model. This term originates from training computer vision models on photographs, where one shot was one example or instance that the model used to classify an image ([Fei-Fei et al. (2006)](http://vision.stanford.edu/documents/Fei-FeiFergusPerona2006.pdf)).\n",
    "\n",
    "#### Zero-Shot Prompting\n",
    "\n",
    "Large language models like Llama 3 are unique because they are capable of following instructions and producing responses without having previously seen an example of a task. Prompting without examples is called \"zero-shot prompting\".\n",
    "\n",
    "Let's try using Llama 3 as a sentiment detector. You may notice that output format varies - we can improve this with better prompting."
   ]
  },
  {
   "cell_type": "code",
   "execution_count": 6,
   "metadata": {},
   "outputs": [
    {
     "name": "stdout",
     "output_type": "stream",
     "text": [
      "==============\n",
      "Text: This was the best movie I've ever seen! \n",
      " The sentiment of the text is: \n",
      "==============\n",
      "The sentiment of the text is: Positive.\n",
      "\n",
      "==============\n",
      "Text: The director was trying too hard. \n",
      " The sentiment of the text is: \n",
      "==============\n",
      "The sentiment of the text is negative.\n",
      "\n"
     ]
    }
   ],
   "source": [
    "# complete_and_print(\"Text: This was the best movie I've ever seen! \\n The sentiment of the text is: \")\n",
    "# # Returns positive sentiment\n",
    "\n",
    "# complete_and_print(\"Text: The director was trying too hard. \\n The sentiment of the text is: \")\n",
    "# # Returns negative sentiment"
   ]
  },
  {
   "attachments": {},
   "cell_type": "markdown",
   "metadata": {},
   "source": [
    "\n",
    "#### Few-Shot Prompting\n",
    "\n",
    "Adding specific examples of your desired output generally results in more accurate, consistent output. This technique is called \"few-shot prompting\".\n",
    "\n",
    "In this example, the generated response follows our desired format that offers a more nuanced sentiment classifer that gives a positive, neutral, and negative response confidence percentage.\n",
    "\n",
    "See also: [Zhao et al. (2021)](https://arxiv.org/abs/2102.09690), [Liu et al. (2021)](https://arxiv.org/abs/2101.06804), [Su et al. (2022)](https://arxiv.org/abs/2209.01975), [Rubin et al. (2022)](https://arxiv.org/abs/2112.08633).\n",
    "\n"
   ]
  },
  {
   "cell_type": "code",
   "execution_count": 7,
   "metadata": {},
   "outputs": [
    {
     "name": "stdout",
     "output_type": "stream",
     "text": [
      "INPUT: I thought it was okay\n",
      "0% positive 75% neutral 25% negative\n",
      "INPUT: I loved it!\n",
      "95% positive 5% neutral 0% negative\n",
      "INPUT: Terrible service 0/10\n",
      "0% positive 0% neutral 100% negative\n"
     ]
    }
   ],
   "source": [
    "# def sentiment(text):\n",
    "#     response = chat_completion(messages=[\n",
    "#         user(\"You are a sentiment classifier. For each message, give the percentage of positive/netural/negative.\"),\n",
    "#         user(\"I liked it\"),\n",
    "#         assistant(\"70% positive 30% neutral 0% negative\"),\n",
    "#         user(\"It could be better\"),\n",
    "#         assistant(\"0% positive 50% neutral 50% negative\"),\n",
    "#         user(\"It's fine\"),\n",
    "#         assistant(\"25% positive 50% neutral 25% negative\"),\n",
    "#         user(text),\n",
    "#     ])\n",
    "#     return response\n",
    "\n",
    "# def print_sentiment(text):\n",
    "#     print(f'INPUT: {text}')\n",
    "#     print(sentiment(text))\n",
    "\n",
    "# print_sentiment(\"I thought it was okay\")\n",
    "# # More likely to return a balanced mix of positive, neutral, and negative\n",
    "# print_sentiment(\"I loved it!\")\n",
    "# # More likely to return 100% positive\n",
    "# print_sentiment(\"Terrible service 0/10\")\n",
    "# # More likely to return 100% negative"
   ]
  },
  {
   "attachments": {},
   "cell_type": "markdown",
   "metadata": {},
   "source": [
    "### Role Prompting\n",
    "\n",
    "Llama will often give more consistent responses when given a role ([Kong et al. (2023)](https://browse.arxiv.org/pdf/2308.07702.pdf)). Roles give context to the LLM on what type of answers are desired.\n",
    "\n",
    "Let's use Llama 3 to create a more focused, technical response for a question around the pros and cons of using PyTorch."
   ]
  },
  {
   "cell_type": "code",
   "execution_count": 10,
   "metadata": {},
   "outputs": [
    {
     "name": "stdout",
     "output_type": "stream",
     "text": [
      "==============\n",
      "Your role is a machine learning expert who gives highly technical advice to senior engineers who work with complicated datasets. Explain the pros and cons of using PyTorch.\n",
      "==============\n",
      "**PyTorch: A Comprehensive Analysis of its Pros and Cons**\n",
      "\n",
      "As a machine learning expert, I've worked extensively with PyTorch, a popular open-source machine learning library. In this analysis, I'll delve into the pros and cons of using PyTorch, highlighting its strengths and weaknesses to help senior engineers make informed decisions when working with complex datasets.\n",
      "\n",
      "**Pros:**\n",
      "\n",
      "### 1. **Dynamic Computation Graph**\n",
      "\n",
      "PyTorch's dynamic computation graph allows for more flexibility and ease of use, particularly when working with complex models or rapidly changing data. This feature enables developers to modify the graph on the fly, eliminating the need for a static graph definition.\n",
      "\n",
      "### 2. **Autograd System**\n",
      "\n",
      "PyTorch's Autograd system provides an efficient and automatic way to compute gradients, making it easier to implement backpropagation and optimize models. This system also supports higher-order derivatives, which is useful for certain optimization algorithms.\n",
      "\n",
      "### 3. **Modular and Extensible**\n",
      "\n",
      "PyTorch's modular design allows developers to easily extend and customize the library. Its modular architecture enables the creation of custom modules, making it an ideal choice for research and development.\n",
      "\n",
      "### 4. **Rapid Prototyping**\n",
      "\n",
      "PyTorch's Pythonic API and dynamic computation graph make it an ideal choice for rapid prototyping. Developers can quickly test and iterate on ideas, reducing the time required to develop and deploy models.\n",
      "\n",
      "### 5. **Strong Community Support**\n",
      "\n",
      "PyTorch has a large and active community, with numerous pre-built models, tutorials, and documentation available. This community support makes it easier for developers to get started and find solutions to common problems.\n",
      "\n",
      "**Cons:**\n",
      "\n",
      "### 1. **Performance Overhead**\n",
      "\n",
      "PyTorch's dynamic computation graph and Autograd system introduce a performance overhead compared to static computation graphs. This overhead can be significant for large models or datasets.\n",
      "\n",
      "### 2. **Memory Usage**\n",
      "\n",
      "PyTorch's dynamic computation graph and Autograd system can result in higher memory usage, particularly when working with large models or datasets.\n",
      "\n",
      "### 3. **Limited Support for Distributed Training**\n",
      "\n",
      "While PyTorch provides some support for distributed training, it is not as comprehensive as other libraries, such as TensorFlow. This can make it more challenging to scale models to large datasets or multiple machines.\n",
      "\n",
      "### 4. **Debugging Challenges**\n",
      "\n",
      "PyTorch's dynamic computation graph and Autograd system can make it more challenging to debug models, particularly when working with complex models or datasets.\n",
      "\n",
      "### 5. **Limited Support for Production Environments**\n",
      "\n",
      "While PyTorch is well-suited for research and development, it may not be the best choice for production environments. Its dynamic computation graph and Autograd system can introduce performance and reliability concerns in production environments.\n",
      "\n",
      "**Conclusion**\n",
      "\n",
      "PyTorch is a powerful and flexible machine learning library that excels in research and development environments. Its dynamic computation graph and Autograd system make it an ideal choice for rapid prototyping and development. However, its performance overhead, memory usage, and limited support for distributed training and production environments may make it less suitable for certain use cases.\n",
      "\n",
      "**Recommendation**\n",
      "\n",
      "PyTorch is a good choice for:\n",
      "\n",
      "* Research and development environments\n",
      "* Rapid prototyping and development\n",
      "* Complex models or datasets that require a high degree of flexibility\n",
      "\n",
      "PyTorch may not be the best choice for:\n",
      "\n",
      "* Large-scale production environments\n",
      "* Distributed training or deployment\n",
      "* Applications that require low latency or high throughput\n",
      "\n",
      "Ultimately, the choice of PyTorch depends on the specific needs and requirements of your project. By understanding its pros and cons, you can make an informed decision and choose the best tool for your machine learning needs.\n",
      "\n"
     ]
    }
   ],
   "source": [
    "# # complete_and_print(\"Explain the pros and cons of using PyTorch.\")\n",
    "# # More likely to explain the pros and cons of PyTorch covers general areas like documentation, the PyTorch community, and mentions a steep learning curve\n",
    "\n",
    "# complete_and_print(\"Your role is a machine learning expert who gives highly technical advice to senior engineers who work with complicated datasets. Explain the pros and cons of using PyTorch.\")\n",
    "# # Often results in more technical benefits and drawbacks that provide more technical details on how model layers"
   ]
  },
  {
   "attachments": {},
   "cell_type": "markdown",
   "metadata": {},
   "source": [
    "### Chain-of-Thought\n",
    "\n",
    "Simply adding a phrase encouraging step-by-step thinking \"significantly improves the ability of large language models to perform complex reasoning\" ([Wei et al. (2022)](https://arxiv.org/abs/2201.11903)). This technique is called \"CoT\" or \"Chain-of-Thought\" prompting.\n",
    "\n",
    "Llama 3.1 now reasons step-by-step naturally without the addition of the phrase. This section remains for completeness."
   ]
  },
  {
   "cell_type": "code",
   "execution_count": 11,
   "metadata": {},
   "outputs": [
    {
     "name": "stdout",
     "output_type": "stream",
     "text": [
      "==============\n",
      "Who lived longer, Mozart or Elvis?\n",
      "==============\n",
      "Wolfgang Amadeus Mozart (1756-1791) lived to be 35 years old. \n",
      "\n",
      "Elvis Presley (1935-1977) lived to be 42 years old. \n",
      "\n",
      "Elvis Presley lived longer than Mozart by 7 years.\n",
      "\n",
      "==============\n",
      "Who lived longer, Mozart or Elvis? Let's think through this carefully, step by step.\n",
      "==============\n",
      "To answer this question, let's look at the birth and death dates of both Mozart and Elvis.\n",
      "\n",
      "1. Wolfgang Amadeus Mozart: \n",
      "   - Born: January 27, 1756\n",
      "   - Died: December 5, 1791\n",
      "\n",
      "2. Elvis Presley:\n",
      "   - Born: January 8, 1935\n",
      "   - Died: August 16, 1977\n",
      "\n",
      "Now, let's calculate their lifespans:\n",
      "- Mozart: 35 years (1791 - 1756)\n",
      "- Elvis: 42 years (1977 - 1935)\n",
      "\n",
      "Based on the calculations, Elvis Presley lived about 7 years longer than Wolfgang Amadeus Mozart.\n",
      "\n"
     ]
    }
   ],
   "source": [
    "# prompt = \"Who lived longer, Mozart or Elvis?\"\n",
    "\n",
    "# complete_and_print(prompt)\n",
    "# # Llama 2 would often give the incorrect answer of \"Mozart\"\n",
    "\n",
    "# complete_and_print(f\"{prompt} Let's think through this carefully, step by step.\")\n",
    "# # Gives the correct answer \"Elvis\""
   ]
  },
  {
   "attachments": {},
   "cell_type": "markdown",
   "metadata": {},
   "source": [
    "### Self-Consistency\n",
    "\n",
    "LLMs are probablistic, so even with Chain-of-Thought, a single generation might produce incorrect results. Self-Consistency ([Wang et al. (2022)](https://arxiv.org/abs/2203.11171)) introduces enhanced accuracy by selecting the most frequent answer from multiple generations (at the cost of higher compute):"
   ]
  },
  {
   "cell_type": "code",
   "execution_count": 13,
   "metadata": {},
   "outputs": [
    {
     "name": "stdout",
     "output_type": "stream",
     "text": [
      "Answers: ['50', '50', '50', '50', '50']\n",
      " Final answer: 50\n"
     ]
    }
   ],
   "source": [
    "# import re\n",
    "# from statistics import mode\n",
    "\n",
    "# def gen_answer():\n",
    "#     response = completion(\n",
    "#         \"John found that the average of 15 numbers is 40.\"\n",
    "#         \"If 10 is added to each number then the mean of the numbers is?\"\n",
    "#         \"Report the answer surrounded by backticks (example: `123`)\",\n",
    "#     )\n",
    "#     match = re.search(r'`(\\d+)`', response)\n",
    "#     if match is None:\n",
    "#         return None\n",
    "#     return match.group(1)\n",
    "\n",
    "# answers = [gen_answer() for i in range(5)]\n",
    "\n",
    "# print(\n",
    "#     f\"Answers: {answers}\\n\",\n",
    "#     f\"Final answer: {mode(answers)}\",\n",
    "#     )\n",
    "\n",
    "# # Sample runs of Llama-3-70B (all correct):\n",
    "# # ['60', '50', '50', '50', '50'] -> 50\n",
    "# # ['50', '50', '50', '60', '50'] -> 50\n",
    "# # ['50', '50', '60', '50', '50'] -> 50"
   ]
  },
  {
   "attachments": {},
   "cell_type": "markdown",
   "metadata": {},
   "source": [
    "### Retrieval-Augmented Generation\n",
    "\n",
    "You'll probably want to use factual knowledge in your application. You can extract common facts from today's large models out-of-the-box (i.e. using just the model weights):"
   ]
  },
  {
   "cell_type": "code",
   "execution_count": 3,
   "metadata": {},
   "outputs": [
    {
     "name": "stdout",
     "output_type": "stream",
     "text": [
      "==============\n",
      "What is the capital of the California?\n",
      "==============\n",
      "The capital of California is Sacramento.\n",
      "\n"
     ]
    }
   ],
   "source": [
    "complete_and_print(\"What is the capital of the California?\")\n",
    "# Gives the correct answer \"Sacramento\""
   ]
  },
  {
   "attachments": {},
   "cell_type": "markdown",
   "metadata": {},
   "source": [
    "However, more specific facts, or private information, cannot be reliably retrieved. The model will either declare it does not know or hallucinate an incorrect answer:"
   ]
  },
  {
   "cell_type": "code",
   "execution_count": 4,
   "metadata": {},
   "outputs": [
    {
     "name": "stdout",
     "output_type": "stream",
     "text": [
      "==============\n",
      "What was the temperature in Menlo Park on December 12th, 2023?\n",
      "==============\n",
      "I'm not able to provide real-time or recent weather information, as my knowledge cutoff is December 2023. However, I can suggest some options to find the temperature in Menlo Park on December 12th, 2023:\n",
      "\n",
      "1. Check online weather websites: You can visit websites like AccuWeather, Weather.com, or the National Weather Service (NWS) for historical weather data. They may have archives of past weather conditions, including temperature readings.\n",
      "2. Contact local weather stations: Reach out to local weather stations or meteorological offices in Menlo Park or nearby areas to inquire about the temperature on December 12th, 2023.\n",
      "3. Check social media: Follow local weather enthusiasts, meteorologists, or news outlets on social media platforms to see if they shared any information about the temperature on December 12th, 2023.\n",
      "\n",
      "Please note that the accuracy of the information may vary depending on the source.\n",
      "\n",
      "==============\n",
      "What time is my dinner reservation on Saturday and what should I wear?\n",
      "==============\n",
      "I'm not aware of any information about your dinner reservation, including the time or dress code. I'm a text-based AI assistant and do not have access to your personal schedule or information. If you need to confirm your dinner reservation details, I recommend checking your calendar, contacting the restaurant directly, or looking for any confirmation emails or messages you may have received.\n",
      "\n"
     ]
    }
   ],
   "source": [
    "complete_and_print(\"What was the temperature in Menlo Park on December 12th, 2023?\")\n",
    "# \"I'm just an AI, I don't have access to real-time weather data or historical weather records.\"\n",
    "\n",
    "complete_and_print(\"What time is my dinner reservation on Saturday and what should I wear?\")\n",
    "# \"I'm not able to access your personal information [..] I can provide some general guidance\""
   ]
  },
  {
   "attachments": {},
   "cell_type": "markdown",
   "metadata": {},
   "source": [
    "Retrieval-Augmented Generation, or RAG, describes the practice of including information in the prompt you've retrived from an external database ([Lewis et al. (2020)](https://arxiv.org/abs/2005.11401v4)). It's an effective way to incorporate facts into your LLM application and is more affordable than fine-tuning which may be costly and negatively impact the foundational model's capabilities.\n",
    "\n",
    "This could be as simple as a lookup table or as sophisticated as a [vector database]([FAISS](https://github.com/facebookresearch/faiss)) containing all of your company's knowledge:"
   ]
  },
  {
   "cell_type": "code",
   "execution_count": 5,
   "metadata": {},
   "outputs": [
    {
     "name": "stdout",
     "output_type": "stream",
     "text": [
      "==============\n",
      "Given the following information: 'The temperature in Menlo Park was 51 degrees Fahrenheit on 2023-12-12'', respond to: 'What is the temperature in Menlo Park on 2023-12-12?'\n",
      "==============\n",
      "The temperature in Menlo Park was 51 degrees Fahrenheit on 2023-12-12.\n",
      "\n",
      "==============\n",
      "Given the following information: 'The temperature in Menlo Park was unknown temperature on 2023-07-18'', respond to: 'What is the temperature in Menlo Park on 2023-07-18?'\n",
      "==============\n",
      "The temperature in Menlo Park on 2023-07-18 is unknown.\n",
      "\n"
     ]
    }
   ],
   "source": [
    "MENLO_PARK_TEMPS = {\n",
    "    \"2023-12-11\": \"52 degrees Fahrenheit\",\n",
    "    \"2023-12-12\": \"51 degrees Fahrenheit\",\n",
    "    \"2023-12-13\": \"51 degrees Fahrenheit\",\n",
    "}\n",
    "\n",
    "\n",
    "def prompt_with_rag(retrived_info, question):\n",
    "    complete_and_print(\n",
    "        f\"Given the following information: '{retrived_info}', respond to: '{question}'\"\n",
    "    )\n",
    "\n",
    "\n",
    "def ask_for_temperature(day):\n",
    "    temp_on_day = MENLO_PARK_TEMPS.get(day) or \"unknown temperature\"\n",
    "    prompt_with_rag(\n",
    "        f\"The temperature in Menlo Park was {temp_on_day} on {day}'\",  # Retrieved fact\n",
    "        f\"What is the temperature in Menlo Park on {day}?\",  # User question\n",
    "    )\n",
    "\n",
    "ask_for_temperature(\"2023-12-12\")\n",
    "# \"Sure! The temperature in Menlo Park on 2023-12-12 was 51 degrees Fahrenheit.\"\n",
    "\n",
    "ask_for_temperature(\"2023-07-18\")\n",
    "# \"I'm not able to provide the temperature in Menlo Park on 2023-07-18 as the information provided states that the temperature was unknown.\""
   ]
  },
  {
   "attachments": {},
   "cell_type": "markdown",
   "metadata": {},
   "source": [
    "### Program-Aided Language Models\n",
    "\n",
    "LLMs, by nature, aren't great at performing calculations. Let's try:\n",
    "\n",
    "$$\n",
    "((-5 + 93 * 4 - 0) * (4^4 + -7 + 0 * 5))\n",
    "$$\n",
    "\n",
    "(The correct answer is 91383.)"
   ]
  },
  {
   "cell_type": "code",
   "execution_count": 6,
   "metadata": {},
   "outputs": [
    {
     "name": "stdout",
     "output_type": "stream",
     "text": [
      "==============\n",
      "\n",
      "Calculate the answer to the following math problem:\n",
      "\n",
      "((-5 + 93 * 4 - 0) * (4^4 + -7 + 0 * 5))\n",
      "\n",
      "==============\n",
      "To calculate the answer to the given math problem, we need to follow the order of operations (PEMDAS):\n",
      "\n",
      "1. Evaluate the expressions inside the parentheses:\n",
      "\n",
      "   (-5 + 93 * 4 - 0) \n",
      "   = (-5 + 372 - 0) \n",
      "   = 367\n",
      "\n",
      "   (4^4 + -7 + 0 * 5) \n",
      "   = (256 - 7 + 0) \n",
      "   = 249\n",
      "\n",
      "2. Multiply the two expressions:\n",
      "\n",
      "   367 * 249 \n",
      "   = 91483\n",
      "\n",
      "The answer to the given math problem is 91483.\n",
      "\n"
     ]
    }
   ],
   "source": [
    "complete_and_print(\"\"\"\n",
    "Calculate the answer to the following math problem:\n",
    "\n",
    "((-5 + 93 * 4 - 0) * (4^4 + -7 + 0 * 5))\n",
    "\"\"\")\n",
    "# Gives incorrect answers like 92448, 92648, 95463"
   ]
  },
  {
   "attachments": {},
   "cell_type": "markdown",
   "metadata": {},
   "source": [
    "[Gao et al. (2022)](https://arxiv.org/abs/2211.10435) introduced the concept of \"Program-aided Language Models\" (PAL). While LLMs are bad at arithmetic, they're great for code generation. PAL leverages this fact by instructing the LLM to write code to solve calculation tasks."
   ]
  },
  {
   "cell_type": "code",
   "execution_count": 7,
   "metadata": {},
   "outputs": [
    {
     "name": "stdout",
     "output_type": "stream",
     "text": [
      "==============\n",
      "\n",
      "    # Python code to calculate: ((-5 + 93 * 4 - 0) * (4^4 + -7 + 0 * 5))\n",
      "    \n",
      "==============\n",
      "### Calculating the Expression in Python\n",
      "\n",
      "Here is a Python code snippet to calculate the given expression:\n",
      "\n",
      "```python\n",
      "def calculate_expression():\n",
      "    # Define the variables\n",
      "    a = -5\n",
      "    b = 93\n",
      "    c = 4\n",
      "    d = 0\n",
      "    e = 4\n",
      "    f = 7\n",
      "    g = 0\n",
      "    h = 5\n",
      "\n",
      "    # Calculate the first part of the expression\n",
      "    first_part = a + b * c - d\n",
      "\n",
      "    # Calculate the second part of the expression\n",
      "    second_part = e ** 4 - f + g * h\n",
      "\n",
      "    # Calculate the final result\n",
      "    result = first_part * second_part\n",
      "\n",
      "    return result\n",
      "\n",
      "# Execute the function\n",
      "result = calculate_expression()\n",
      "print(\"The result of the expression is:\", result)\n",
      "```\n",
      "\n",
      "### Explanation\n",
      "\n",
      "In this code:\n",
      "\n",
      "1.  We define a function `calculate_expression()` to calculate the given expression.\n",
      "2.  We define the variables `a`, `b`, `c`, `d`, `e`, `f`, `g`, and `h` to represent the values in the expression.\n",
      "3.  We calculate the first part of the expression using the order of operations (PEMDAS/BODMAS).\n",
      "4.  We calculate the second part of the expression using the order of operations.\n",
      "5.  We multiply the first and second parts to get the final result.\n",
      "6.  We execute the function and print the result.\n",
      "\n",
      "### Alternative Solution\n",
      "\n",
      "You can also calculate the expression directly using the following code:\n",
      "\n",
      "```python\n",
      "result = ((-5 + 93 * 4 - 0) * (4 ** 4 - 7 + 0 * 5))\n",
      "print(\"The result of the expression is:\", result)\n",
      "```\n",
      "\n",
      "This code is more concise but less readable than the previous example.\n",
      "\n"
     ]
    }
   ],
   "source": [
    "complete_and_print(\n",
    "    \"\"\"\n",
    "    # Python code to calculate: ((-5 + 93 * 4 - 0) * (4^4 + -7 + 0 * 5))\n",
    "    \"\"\",\n",
    ")"
   ]
  },
  {
   "cell_type": "code",
   "execution_count": 8,
   "metadata": {},
   "outputs": [
    {
     "name": "stdout",
     "output_type": "stream",
     "text": [
      "91383\n"
     ]
    }
   ],
   "source": [
    "# The following code was generated by Llama 3 70B:\n",
    "\n",
    "result = ((-5 + 93 * 4 - 0) * (4**4 - 7 + 0 * 5))\n",
    "print(result)"
   ]
  },
  {
   "attachments": {},
   "cell_type": "markdown",
   "metadata": {},
   "source": [
    "### Limiting Extraneous Tokens\n",
    "\n",
    "A common struggle with Llama 2 is getting output without extraneous tokens (ex. \"Sure! Here's more information on...\"), even if explicit instructions are given to Llama 2 to be concise and no preamble. Llama 3.x can better follow instructions.\n",
    "\n",
    "Check out this improvement that combines a role, rules and restrictions, explicit instructions, and an example:"
   ]
  },
  {
   "cell_type": "code",
   "execution_count": 9,
   "metadata": {},
   "outputs": [
    {
     "name": "stdout",
     "output_type": "stream",
     "text": [
      "==============\n",
      "Give me the zip code for Menlo Park in JSON format with the field 'zip_code'\n",
      "==============\n",
      "```\n",
      "{\n",
      "  \"zip_code\": \"94025\"\n",
      "}\n",
      "```\n",
      "\n",
      "Note: Menlo Park, California has multiple zip codes (94025, 94026, 94027, 94028, 94029, 94035, 94036, 94037, 94038, 94040, 94041, 94042, 94043, 94044, 94045), but 94025 is one of the most commonly used.\n",
      "\n",
      "==============\n",
      "\n",
      "    You are a robot that only outputs JSON.\n",
      "    You reply in JSON format with the field 'zip_code'.\n",
      "    Example question: What is the zip code of the Empire State Building? Example answer: {'zip_code': 10118}\n",
      "    Now here is my question: What is the zip code of Menlo Park?\n",
      "    \n",
      "==============\n",
      "{\"zip_code\": 94025}\n",
      "\n"
     ]
    }
   ],
   "source": [
    "complete_and_print(\n",
    "    \"Give me the zip code for Menlo Park in JSON format with the field 'zip_code'\",\n",
    ")\n",
    "# Likely returns the JSON and also \"Sure! Here's the JSON...\"\n",
    "\n",
    "complete_and_print(\n",
    "    \"\"\"\n",
    "    You are a robot that only outputs JSON.\n",
    "    You reply in JSON format with the field 'zip_code'.\n",
    "    Example question: What is the zip code of the Empire State Building? Example answer: {'zip_code': 10118}\n",
    "    Now here is my question: What is the zip code of Menlo Park?\n",
    "    \"\"\",\n",
    ")\n",
    "# \"{'zip_code': 94025}\""
   ]
  },
  {
   "attachments": {},
   "cell_type": "markdown",
   "metadata": {},
   "source": [
    "## Additional References\n",
    "- [PromptingGuide.ai](https://www.promptingguide.ai/)\n",
    "- [LearnPrompting.org](https://learnprompting.org/)\n",
    "- [Lil'Log Prompt Engineering Guide](https://lilianweng.github.io/posts/2023-03-15-prompt-engineering/)\n"
   ]
  },
  {
   "attachments": {},
   "cell_type": "markdown",
   "metadata": {},
   "source": [
    "## Author & Contact\n",
    "\n",
    "Edited by [Dalton Flanagan](https://www.linkedin.com/in/daltonflanagan/) (dalton@meta.com) with contributions from Mohsen Agsen, Bryce Bortree, Ricardo Juan Palma Duran, Kaolin Fire, Thomas Scialom."
   ]
  }
 ],
 "metadata": {
  "captumWidgetMessage": [],
  "dataExplorerConfig": [],
  "kernelspec": {
   "display_name": "base",
   "language": "python",
   "name": "python3"
  },
  "language_info": {
   "codemirror_mode": {
    "name": "ipython",
    "version": 3
   },
   "file_extension": ".py",
   "mimetype": "text/x-python",
   "name": "python",
   "nbconvert_exporter": "python",
   "pygments_lexer": "ipython3",
   "version": "3.12.4"
  },
  "last_base_url": "https://bento.edge.x2p.facebook.net/",
  "last_kernel_id": "161e2a7b-2d2b-4995-87f3-d1539860ecac",
  "last_msg_id": "4eab1242-d815b886ebe4f5b1966da982_543",
  "last_server_session_id": "4a7b41c5-ed66-4dcb-a376-22673aebb469",
  "operator_data": [],
  "outputWidgetContext": []
 },
 "nbformat": 4,
 "nbformat_minor": 4
}
